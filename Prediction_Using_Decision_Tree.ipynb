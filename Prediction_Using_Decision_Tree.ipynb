{
  "nbformat": 4,
  "nbformat_minor": 0,
  "metadata": {
    "colab": {
      "name": "Prediction Using Decision Tree.ipynb",
      "provenance": [],
      "collapsed_sections": []
    },
    "kernelspec": {
      "name": "python3",
      "display_name": "Python 3"
    },
    "language_info": {
      "name": "python"
    }
  },
  "cells": [
    {
      "cell_type": "markdown",
      "source": [
        "# Description"
      ],
      "metadata": {
        "id": "Evh5AVhAwoa3"
      }
    },
    {
      "cell_type": "markdown",
      "source": [
        "#### LetsGrowMore :- Data Science Intern\n",
        "\n",
        "#### LGM(VIP) January Batch-2022\n",
        "\n",
        "#### Task - Prediction using Decision Tree Algorithm\n",
        "\n",
        "#### Goal - Create the Decision Tree classifier and visualize it graphically. The purpose is if we feed any new data to this classifier, it would be able to  predict the right class accordingly.\n",
        "\n",
        "#### Dataset link:- https://drive.google.com/file/d/11Iq7YvbWZbt8VXjfm06brx66b10YiwK-/view\n",
        "\n",
        "#### Author:- Manav Khakhi"
      ],
      "metadata": {
        "id": "wu-LD_o_wrJA"
      }
    },
    {
      "cell_type": "markdown",
      "source": [
        "# Importing Required Libraries"
      ],
      "metadata": {
        "id": "tCQ4TmnVxmZ5"
      }
    },
    {
      "cell_type": "code",
      "source": [
        "import numpy as np\n",
        "import pandas as pd\n",
        "import matplotlib.pyplot as plt\n",
        "# Import Decision Tree Classifier\n",
        "from sklearn.tree import DecisionTreeClassifier \n",
        "# Import train_test_split function\n",
        "from sklearn.model_selection import train_test_split \n",
        "from sklearn.metrics import accuracy_score\n",
        "import seaborn as sns"
      ],
      "metadata": {
        "id": "FbtEEfBDx0Le"
      },
      "execution_count": 1,
      "outputs": []
    },
    {
      "cell_type": "markdown",
      "source": [
        "# Loading the Dataset"
      ],
      "metadata": {
        "id": "qK4VgxuRyfNZ"
      }
    },
    {
      "cell_type": "code",
      "source": [
        "iris = sns.load_dataset(\"iris\")"
      ],
      "metadata": {
        "id": "74ZhIQLwykfE"
      },
      "execution_count": 2,
      "outputs": []
    },
    {
      "cell_type": "markdown",
      "source": [
        "# Exploring the Dataset"
      ],
      "metadata": {
        "id": "B9yBff0Vywki"
      }
    },
    {
      "cell_type": "code",
      "source": [
        "#Printing the Dataset\n",
        "iris"
      ],
      "metadata": {
        "colab": {
          "base_uri": "https://localhost:8080/",
          "height": 424
        },
        "id": "3-QCHZGgy0bE",
        "outputId": "48c5cdcb-3d97-4f43-f107-2cacde35fbe1"
      },
      "execution_count": 9,
      "outputs": [
        {
          "output_type": "execute_result",
          "data": {
            "text/html": [
              "\n",
              "  <div id=\"df-8d103311-8a79-44f2-b612-1931dc4a4151\">\n",
              "    <div class=\"colab-df-container\">\n",
              "      <div>\n",
              "<style scoped>\n",
              "    .dataframe tbody tr th:only-of-type {\n",
              "        vertical-align: middle;\n",
              "    }\n",
              "\n",
              "    .dataframe tbody tr th {\n",
              "        vertical-align: top;\n",
              "    }\n",
              "\n",
              "    .dataframe thead th {\n",
              "        text-align: right;\n",
              "    }\n",
              "</style>\n",
              "<table border=\"1\" class=\"dataframe\">\n",
              "  <thead>\n",
              "    <tr style=\"text-align: right;\">\n",
              "      <th></th>\n",
              "      <th>sepal_length</th>\n",
              "      <th>sepal_width</th>\n",
              "      <th>petal_length</th>\n",
              "      <th>petal_width</th>\n",
              "      <th>species</th>\n",
              "    </tr>\n",
              "  </thead>\n",
              "  <tbody>\n",
              "    <tr>\n",
              "      <th>0</th>\n",
              "      <td>5.1</td>\n",
              "      <td>3.5</td>\n",
              "      <td>1.4</td>\n",
              "      <td>0.2</td>\n",
              "      <td>setosa</td>\n",
              "    </tr>\n",
              "    <tr>\n",
              "      <th>1</th>\n",
              "      <td>4.9</td>\n",
              "      <td>3.0</td>\n",
              "      <td>1.4</td>\n",
              "      <td>0.2</td>\n",
              "      <td>setosa</td>\n",
              "    </tr>\n",
              "    <tr>\n",
              "      <th>2</th>\n",
              "      <td>4.7</td>\n",
              "      <td>3.2</td>\n",
              "      <td>1.3</td>\n",
              "      <td>0.2</td>\n",
              "      <td>setosa</td>\n",
              "    </tr>\n",
              "    <tr>\n",
              "      <th>3</th>\n",
              "      <td>4.6</td>\n",
              "      <td>3.1</td>\n",
              "      <td>1.5</td>\n",
              "      <td>0.2</td>\n",
              "      <td>setosa</td>\n",
              "    </tr>\n",
              "    <tr>\n",
              "      <th>4</th>\n",
              "      <td>5.0</td>\n",
              "      <td>3.6</td>\n",
              "      <td>1.4</td>\n",
              "      <td>0.2</td>\n",
              "      <td>setosa</td>\n",
              "    </tr>\n",
              "    <tr>\n",
              "      <th>...</th>\n",
              "      <td>...</td>\n",
              "      <td>...</td>\n",
              "      <td>...</td>\n",
              "      <td>...</td>\n",
              "      <td>...</td>\n",
              "    </tr>\n",
              "    <tr>\n",
              "      <th>145</th>\n",
              "      <td>6.7</td>\n",
              "      <td>3.0</td>\n",
              "      <td>5.2</td>\n",
              "      <td>2.3</td>\n",
              "      <td>virginica</td>\n",
              "    </tr>\n",
              "    <tr>\n",
              "      <th>146</th>\n",
              "      <td>6.3</td>\n",
              "      <td>2.5</td>\n",
              "      <td>5.0</td>\n",
              "      <td>1.9</td>\n",
              "      <td>virginica</td>\n",
              "    </tr>\n",
              "    <tr>\n",
              "      <th>147</th>\n",
              "      <td>6.5</td>\n",
              "      <td>3.0</td>\n",
              "      <td>5.2</td>\n",
              "      <td>2.0</td>\n",
              "      <td>virginica</td>\n",
              "    </tr>\n",
              "    <tr>\n",
              "      <th>148</th>\n",
              "      <td>6.2</td>\n",
              "      <td>3.4</td>\n",
              "      <td>5.4</td>\n",
              "      <td>2.3</td>\n",
              "      <td>virginica</td>\n",
              "    </tr>\n",
              "    <tr>\n",
              "      <th>149</th>\n",
              "      <td>5.9</td>\n",
              "      <td>3.0</td>\n",
              "      <td>5.1</td>\n",
              "      <td>1.8</td>\n",
              "      <td>virginica</td>\n",
              "    </tr>\n",
              "  </tbody>\n",
              "</table>\n",
              "<p>150 rows × 5 columns</p>\n",
              "</div>\n",
              "      <button class=\"colab-df-convert\" onclick=\"convertToInteractive('df-8d103311-8a79-44f2-b612-1931dc4a4151')\"\n",
              "              title=\"Convert this dataframe to an interactive table.\"\n",
              "              style=\"display:none;\">\n",
              "        \n",
              "  <svg xmlns=\"http://www.w3.org/2000/svg\" height=\"24px\"viewBox=\"0 0 24 24\"\n",
              "       width=\"24px\">\n",
              "    <path d=\"M0 0h24v24H0V0z\" fill=\"none\"/>\n",
              "    <path d=\"M18.56 5.44l.94 2.06.94-2.06 2.06-.94-2.06-.94-.94-2.06-.94 2.06-2.06.94zm-11 1L8.5 8.5l.94-2.06 2.06-.94-2.06-.94L8.5 2.5l-.94 2.06-2.06.94zm10 10l.94 2.06.94-2.06 2.06-.94-2.06-.94-.94-2.06-.94 2.06-2.06.94z\"/><path d=\"M17.41 7.96l-1.37-1.37c-.4-.4-.92-.59-1.43-.59-.52 0-1.04.2-1.43.59L10.3 9.45l-7.72 7.72c-.78.78-.78 2.05 0 2.83L4 21.41c.39.39.9.59 1.41.59.51 0 1.02-.2 1.41-.59l7.78-7.78 2.81-2.81c.8-.78.8-2.07 0-2.86zM5.41 20L4 18.59l7.72-7.72 1.47 1.35L5.41 20z\"/>\n",
              "  </svg>\n",
              "      </button>\n",
              "      \n",
              "  <style>\n",
              "    .colab-df-container {\n",
              "      display:flex;\n",
              "      flex-wrap:wrap;\n",
              "      gap: 12px;\n",
              "    }\n",
              "\n",
              "    .colab-df-convert {\n",
              "      background-color: #E8F0FE;\n",
              "      border: none;\n",
              "      border-radius: 50%;\n",
              "      cursor: pointer;\n",
              "      display: none;\n",
              "      fill: #1967D2;\n",
              "      height: 32px;\n",
              "      padding: 0 0 0 0;\n",
              "      width: 32px;\n",
              "    }\n",
              "\n",
              "    .colab-df-convert:hover {\n",
              "      background-color: #E2EBFA;\n",
              "      box-shadow: 0px 1px 2px rgba(60, 64, 67, 0.3), 0px 1px 3px 1px rgba(60, 64, 67, 0.15);\n",
              "      fill: #174EA6;\n",
              "    }\n",
              "\n",
              "    [theme=dark] .colab-df-convert {\n",
              "      background-color: #3B4455;\n",
              "      fill: #D2E3FC;\n",
              "    }\n",
              "\n",
              "    [theme=dark] .colab-df-convert:hover {\n",
              "      background-color: #434B5C;\n",
              "      box-shadow: 0px 1px 3px 1px rgba(0, 0, 0, 0.15);\n",
              "      filter: drop-shadow(0px 1px 2px rgba(0, 0, 0, 0.3));\n",
              "      fill: #FFFFFF;\n",
              "    }\n",
              "  </style>\n",
              "\n",
              "      <script>\n",
              "        const buttonEl =\n",
              "          document.querySelector('#df-8d103311-8a79-44f2-b612-1931dc4a4151 button.colab-df-convert');\n",
              "        buttonEl.style.display =\n",
              "          google.colab.kernel.accessAllowed ? 'block' : 'none';\n",
              "\n",
              "        async function convertToInteractive(key) {\n",
              "          const element = document.querySelector('#df-8d103311-8a79-44f2-b612-1931dc4a4151');\n",
              "          const dataTable =\n",
              "            await google.colab.kernel.invokeFunction('convertToInteractive',\n",
              "                                                     [key], {});\n",
              "          if (!dataTable) return;\n",
              "\n",
              "          const docLinkHtml = 'Like what you see? Visit the ' +\n",
              "            '<a target=\"_blank\" href=https://colab.research.google.com/notebooks/data_table.ipynb>data table notebook</a>'\n",
              "            + ' to learn more about interactive tables.';\n",
              "          element.innerHTML = '';\n",
              "          dataTable['output_type'] = 'display_data';\n",
              "          await google.colab.output.renderOutput(dataTable, element);\n",
              "          const docLink = document.createElement('div');\n",
              "          docLink.innerHTML = docLinkHtml;\n",
              "          element.appendChild(docLink);\n",
              "        }\n",
              "      </script>\n",
              "    </div>\n",
              "  </div>\n",
              "  "
            ],
            "text/plain": [
              "     sepal_length  sepal_width  petal_length  petal_width    species\n",
              "0             5.1          3.5           1.4          0.2     setosa\n",
              "1             4.9          3.0           1.4          0.2     setosa\n",
              "2             4.7          3.2           1.3          0.2     setosa\n",
              "3             4.6          3.1           1.5          0.2     setosa\n",
              "4             5.0          3.6           1.4          0.2     setosa\n",
              "..            ...          ...           ...          ...        ...\n",
              "145           6.7          3.0           5.2          2.3  virginica\n",
              "146           6.3          2.5           5.0          1.9  virginica\n",
              "147           6.5          3.0           5.2          2.0  virginica\n",
              "148           6.2          3.4           5.4          2.3  virginica\n",
              "149           5.9          3.0           5.1          1.8  virginica\n",
              "\n",
              "[150 rows x 5 columns]"
            ]
          },
          "metadata": {},
          "execution_count": 9
        }
      ]
    },
    {
      "cell_type": "code",
      "source": [
        "# Printing the first 5 rows\n",
        "iris.head()"
      ],
      "metadata": {
        "colab": {
          "base_uri": "https://localhost:8080/",
          "height": 206
        },
        "id": "xc7zqmWUzJlj",
        "outputId": "42b7f11f-a8d8-4318-8b3c-7991ebd5eebd"
      },
      "execution_count": 10,
      "outputs": [
        {
          "output_type": "execute_result",
          "data": {
            "text/html": [
              "\n",
              "  <div id=\"df-26e7b5db-78d0-4275-8997-a2202fcc728f\">\n",
              "    <div class=\"colab-df-container\">\n",
              "      <div>\n",
              "<style scoped>\n",
              "    .dataframe tbody tr th:only-of-type {\n",
              "        vertical-align: middle;\n",
              "    }\n",
              "\n",
              "    .dataframe tbody tr th {\n",
              "        vertical-align: top;\n",
              "    }\n",
              "\n",
              "    .dataframe thead th {\n",
              "        text-align: right;\n",
              "    }\n",
              "</style>\n",
              "<table border=\"1\" class=\"dataframe\">\n",
              "  <thead>\n",
              "    <tr style=\"text-align: right;\">\n",
              "      <th></th>\n",
              "      <th>sepal_length</th>\n",
              "      <th>sepal_width</th>\n",
              "      <th>petal_length</th>\n",
              "      <th>petal_width</th>\n",
              "      <th>species</th>\n",
              "    </tr>\n",
              "  </thead>\n",
              "  <tbody>\n",
              "    <tr>\n",
              "      <th>0</th>\n",
              "      <td>5.1</td>\n",
              "      <td>3.5</td>\n",
              "      <td>1.4</td>\n",
              "      <td>0.2</td>\n",
              "      <td>setosa</td>\n",
              "    </tr>\n",
              "    <tr>\n",
              "      <th>1</th>\n",
              "      <td>4.9</td>\n",
              "      <td>3.0</td>\n",
              "      <td>1.4</td>\n",
              "      <td>0.2</td>\n",
              "      <td>setosa</td>\n",
              "    </tr>\n",
              "    <tr>\n",
              "      <th>2</th>\n",
              "      <td>4.7</td>\n",
              "      <td>3.2</td>\n",
              "      <td>1.3</td>\n",
              "      <td>0.2</td>\n",
              "      <td>setosa</td>\n",
              "    </tr>\n",
              "    <tr>\n",
              "      <th>3</th>\n",
              "      <td>4.6</td>\n",
              "      <td>3.1</td>\n",
              "      <td>1.5</td>\n",
              "      <td>0.2</td>\n",
              "      <td>setosa</td>\n",
              "    </tr>\n",
              "    <tr>\n",
              "      <th>4</th>\n",
              "      <td>5.0</td>\n",
              "      <td>3.6</td>\n",
              "      <td>1.4</td>\n",
              "      <td>0.2</td>\n",
              "      <td>setosa</td>\n",
              "    </tr>\n",
              "  </tbody>\n",
              "</table>\n",
              "</div>\n",
              "      <button class=\"colab-df-convert\" onclick=\"convertToInteractive('df-26e7b5db-78d0-4275-8997-a2202fcc728f')\"\n",
              "              title=\"Convert this dataframe to an interactive table.\"\n",
              "              style=\"display:none;\">\n",
              "        \n",
              "  <svg xmlns=\"http://www.w3.org/2000/svg\" height=\"24px\"viewBox=\"0 0 24 24\"\n",
              "       width=\"24px\">\n",
              "    <path d=\"M0 0h24v24H0V0z\" fill=\"none\"/>\n",
              "    <path d=\"M18.56 5.44l.94 2.06.94-2.06 2.06-.94-2.06-.94-.94-2.06-.94 2.06-2.06.94zm-11 1L8.5 8.5l.94-2.06 2.06-.94-2.06-.94L8.5 2.5l-.94 2.06-2.06.94zm10 10l.94 2.06.94-2.06 2.06-.94-2.06-.94-.94-2.06-.94 2.06-2.06.94z\"/><path d=\"M17.41 7.96l-1.37-1.37c-.4-.4-.92-.59-1.43-.59-.52 0-1.04.2-1.43.59L10.3 9.45l-7.72 7.72c-.78.78-.78 2.05 0 2.83L4 21.41c.39.39.9.59 1.41.59.51 0 1.02-.2 1.41-.59l7.78-7.78 2.81-2.81c.8-.78.8-2.07 0-2.86zM5.41 20L4 18.59l7.72-7.72 1.47 1.35L5.41 20z\"/>\n",
              "  </svg>\n",
              "      </button>\n",
              "      \n",
              "  <style>\n",
              "    .colab-df-container {\n",
              "      display:flex;\n",
              "      flex-wrap:wrap;\n",
              "      gap: 12px;\n",
              "    }\n",
              "\n",
              "    .colab-df-convert {\n",
              "      background-color: #E8F0FE;\n",
              "      border: none;\n",
              "      border-radius: 50%;\n",
              "      cursor: pointer;\n",
              "      display: none;\n",
              "      fill: #1967D2;\n",
              "      height: 32px;\n",
              "      padding: 0 0 0 0;\n",
              "      width: 32px;\n",
              "    }\n",
              "\n",
              "    .colab-df-convert:hover {\n",
              "      background-color: #E2EBFA;\n",
              "      box-shadow: 0px 1px 2px rgba(60, 64, 67, 0.3), 0px 1px 3px 1px rgba(60, 64, 67, 0.15);\n",
              "      fill: #174EA6;\n",
              "    }\n",
              "\n",
              "    [theme=dark] .colab-df-convert {\n",
              "      background-color: #3B4455;\n",
              "      fill: #D2E3FC;\n",
              "    }\n",
              "\n",
              "    [theme=dark] .colab-df-convert:hover {\n",
              "      background-color: #434B5C;\n",
              "      box-shadow: 0px 1px 3px 1px rgba(0, 0, 0, 0.15);\n",
              "      filter: drop-shadow(0px 1px 2px rgba(0, 0, 0, 0.3));\n",
              "      fill: #FFFFFF;\n",
              "    }\n",
              "  </style>\n",
              "\n",
              "      <script>\n",
              "        const buttonEl =\n",
              "          document.querySelector('#df-26e7b5db-78d0-4275-8997-a2202fcc728f button.colab-df-convert');\n",
              "        buttonEl.style.display =\n",
              "          google.colab.kernel.accessAllowed ? 'block' : 'none';\n",
              "\n",
              "        async function convertToInteractive(key) {\n",
              "          const element = document.querySelector('#df-26e7b5db-78d0-4275-8997-a2202fcc728f');\n",
              "          const dataTable =\n",
              "            await google.colab.kernel.invokeFunction('convertToInteractive',\n",
              "                                                     [key], {});\n",
              "          if (!dataTable) return;\n",
              "\n",
              "          const docLinkHtml = 'Like what you see? Visit the ' +\n",
              "            '<a target=\"_blank\" href=https://colab.research.google.com/notebooks/data_table.ipynb>data table notebook</a>'\n",
              "            + ' to learn more about interactive tables.';\n",
              "          element.innerHTML = '';\n",
              "          dataTable['output_type'] = 'display_data';\n",
              "          await google.colab.output.renderOutput(dataTable, element);\n",
              "          const docLink = document.createElement('div');\n",
              "          docLink.innerHTML = docLinkHtml;\n",
              "          element.appendChild(docLink);\n",
              "        }\n",
              "      </script>\n",
              "    </div>\n",
              "  </div>\n",
              "  "
            ],
            "text/plain": [
              "   sepal_length  sepal_width  petal_length  petal_width species\n",
              "0           5.1          3.5           1.4          0.2  setosa\n",
              "1           4.9          3.0           1.4          0.2  setosa\n",
              "2           4.7          3.2           1.3          0.2  setosa\n",
              "3           4.6          3.1           1.5          0.2  setosa\n",
              "4           5.0          3.6           1.4          0.2  setosa"
            ]
          },
          "metadata": {},
          "execution_count": 10
        }
      ]
    },
    {
      "cell_type": "code",
      "source": [
        "# Printing the last 5 rows\n",
        "iris.tail()"
      ],
      "metadata": {
        "colab": {
          "base_uri": "https://localhost:8080/",
          "height": 206
        },
        "id": "j5w4GfMNzUc4",
        "outputId": "3394dbe2-8ebc-45ef-9488-46ce0e40844d"
      },
      "execution_count": 11,
      "outputs": [
        {
          "output_type": "execute_result",
          "data": {
            "text/html": [
              "\n",
              "  <div id=\"df-df344261-d740-4b2d-8f40-b8264c5b7027\">\n",
              "    <div class=\"colab-df-container\">\n",
              "      <div>\n",
              "<style scoped>\n",
              "    .dataframe tbody tr th:only-of-type {\n",
              "        vertical-align: middle;\n",
              "    }\n",
              "\n",
              "    .dataframe tbody tr th {\n",
              "        vertical-align: top;\n",
              "    }\n",
              "\n",
              "    .dataframe thead th {\n",
              "        text-align: right;\n",
              "    }\n",
              "</style>\n",
              "<table border=\"1\" class=\"dataframe\">\n",
              "  <thead>\n",
              "    <tr style=\"text-align: right;\">\n",
              "      <th></th>\n",
              "      <th>sepal_length</th>\n",
              "      <th>sepal_width</th>\n",
              "      <th>petal_length</th>\n",
              "      <th>petal_width</th>\n",
              "      <th>species</th>\n",
              "    </tr>\n",
              "  </thead>\n",
              "  <tbody>\n",
              "    <tr>\n",
              "      <th>145</th>\n",
              "      <td>6.7</td>\n",
              "      <td>3.0</td>\n",
              "      <td>5.2</td>\n",
              "      <td>2.3</td>\n",
              "      <td>virginica</td>\n",
              "    </tr>\n",
              "    <tr>\n",
              "      <th>146</th>\n",
              "      <td>6.3</td>\n",
              "      <td>2.5</td>\n",
              "      <td>5.0</td>\n",
              "      <td>1.9</td>\n",
              "      <td>virginica</td>\n",
              "    </tr>\n",
              "    <tr>\n",
              "      <th>147</th>\n",
              "      <td>6.5</td>\n",
              "      <td>3.0</td>\n",
              "      <td>5.2</td>\n",
              "      <td>2.0</td>\n",
              "      <td>virginica</td>\n",
              "    </tr>\n",
              "    <tr>\n",
              "      <th>148</th>\n",
              "      <td>6.2</td>\n",
              "      <td>3.4</td>\n",
              "      <td>5.4</td>\n",
              "      <td>2.3</td>\n",
              "      <td>virginica</td>\n",
              "    </tr>\n",
              "    <tr>\n",
              "      <th>149</th>\n",
              "      <td>5.9</td>\n",
              "      <td>3.0</td>\n",
              "      <td>5.1</td>\n",
              "      <td>1.8</td>\n",
              "      <td>virginica</td>\n",
              "    </tr>\n",
              "  </tbody>\n",
              "</table>\n",
              "</div>\n",
              "      <button class=\"colab-df-convert\" onclick=\"convertToInteractive('df-df344261-d740-4b2d-8f40-b8264c5b7027')\"\n",
              "              title=\"Convert this dataframe to an interactive table.\"\n",
              "              style=\"display:none;\">\n",
              "        \n",
              "  <svg xmlns=\"http://www.w3.org/2000/svg\" height=\"24px\"viewBox=\"0 0 24 24\"\n",
              "       width=\"24px\">\n",
              "    <path d=\"M0 0h24v24H0V0z\" fill=\"none\"/>\n",
              "    <path d=\"M18.56 5.44l.94 2.06.94-2.06 2.06-.94-2.06-.94-.94-2.06-.94 2.06-2.06.94zm-11 1L8.5 8.5l.94-2.06 2.06-.94-2.06-.94L8.5 2.5l-.94 2.06-2.06.94zm10 10l.94 2.06.94-2.06 2.06-.94-2.06-.94-.94-2.06-.94 2.06-2.06.94z\"/><path d=\"M17.41 7.96l-1.37-1.37c-.4-.4-.92-.59-1.43-.59-.52 0-1.04.2-1.43.59L10.3 9.45l-7.72 7.72c-.78.78-.78 2.05 0 2.83L4 21.41c.39.39.9.59 1.41.59.51 0 1.02-.2 1.41-.59l7.78-7.78 2.81-2.81c.8-.78.8-2.07 0-2.86zM5.41 20L4 18.59l7.72-7.72 1.47 1.35L5.41 20z\"/>\n",
              "  </svg>\n",
              "      </button>\n",
              "      \n",
              "  <style>\n",
              "    .colab-df-container {\n",
              "      display:flex;\n",
              "      flex-wrap:wrap;\n",
              "      gap: 12px;\n",
              "    }\n",
              "\n",
              "    .colab-df-convert {\n",
              "      background-color: #E8F0FE;\n",
              "      border: none;\n",
              "      border-radius: 50%;\n",
              "      cursor: pointer;\n",
              "      display: none;\n",
              "      fill: #1967D2;\n",
              "      height: 32px;\n",
              "      padding: 0 0 0 0;\n",
              "      width: 32px;\n",
              "    }\n",
              "\n",
              "    .colab-df-convert:hover {\n",
              "      background-color: #E2EBFA;\n",
              "      box-shadow: 0px 1px 2px rgba(60, 64, 67, 0.3), 0px 1px 3px 1px rgba(60, 64, 67, 0.15);\n",
              "      fill: #174EA6;\n",
              "    }\n",
              "\n",
              "    [theme=dark] .colab-df-convert {\n",
              "      background-color: #3B4455;\n",
              "      fill: #D2E3FC;\n",
              "    }\n",
              "\n",
              "    [theme=dark] .colab-df-convert:hover {\n",
              "      background-color: #434B5C;\n",
              "      box-shadow: 0px 1px 3px 1px rgba(0, 0, 0, 0.15);\n",
              "      filter: drop-shadow(0px 1px 2px rgba(0, 0, 0, 0.3));\n",
              "      fill: #FFFFFF;\n",
              "    }\n",
              "  </style>\n",
              "\n",
              "      <script>\n",
              "        const buttonEl =\n",
              "          document.querySelector('#df-df344261-d740-4b2d-8f40-b8264c5b7027 button.colab-df-convert');\n",
              "        buttonEl.style.display =\n",
              "          google.colab.kernel.accessAllowed ? 'block' : 'none';\n",
              "\n",
              "        async function convertToInteractive(key) {\n",
              "          const element = document.querySelector('#df-df344261-d740-4b2d-8f40-b8264c5b7027');\n",
              "          const dataTable =\n",
              "            await google.colab.kernel.invokeFunction('convertToInteractive',\n",
              "                                                     [key], {});\n",
              "          if (!dataTable) return;\n",
              "\n",
              "          const docLinkHtml = 'Like what you see? Visit the ' +\n",
              "            '<a target=\"_blank\" href=https://colab.research.google.com/notebooks/data_table.ipynb>data table notebook</a>'\n",
              "            + ' to learn more about interactive tables.';\n",
              "          element.innerHTML = '';\n",
              "          dataTable['output_type'] = 'display_data';\n",
              "          await google.colab.output.renderOutput(dataTable, element);\n",
              "          const docLink = document.createElement('div');\n",
              "          docLink.innerHTML = docLinkHtml;\n",
              "          element.appendChild(docLink);\n",
              "        }\n",
              "      </script>\n",
              "    </div>\n",
              "  </div>\n",
              "  "
            ],
            "text/plain": [
              "     sepal_length  sepal_width  petal_length  petal_width    species\n",
              "145           6.7          3.0           5.2          2.3  virginica\n",
              "146           6.3          2.5           5.0          1.9  virginica\n",
              "147           6.5          3.0           5.2          2.0  virginica\n",
              "148           6.2          3.4           5.4          2.3  virginica\n",
              "149           5.9          3.0           5.1          1.8  virginica"
            ]
          },
          "metadata": {},
          "execution_count": 11
        }
      ]
    },
    {
      "cell_type": "code",
      "source": [
        "# Checking te type of data\n",
        "iris.info()"
      ],
      "metadata": {
        "colab": {
          "base_uri": "https://localhost:8080/"
        },
        "id": "f3EOtbcbzwIc",
        "outputId": "6f1ce45e-4d80-4409-e85b-b1cd20a6983a"
      },
      "execution_count": 12,
      "outputs": [
        {
          "output_type": "stream",
          "name": "stdout",
          "text": [
            "<class 'pandas.core.frame.DataFrame'>\n",
            "RangeIndex: 150 entries, 0 to 149\n",
            "Data columns (total 5 columns):\n",
            " #   Column        Non-Null Count  Dtype  \n",
            "---  ------        --------------  -----  \n",
            " 0   sepal_length  150 non-null    float64\n",
            " 1   sepal_width   150 non-null    float64\n",
            " 2   petal_length  150 non-null    float64\n",
            " 3   petal_width   150 non-null    float64\n",
            " 4   species       150 non-null    object \n",
            "dtypes: float64(4), object(1)\n",
            "memory usage: 6.0+ KB\n"
          ]
        }
      ]
    },
    {
      "cell_type": "code",
      "source": [
        "# Checking the Shape of the Dataset\n",
        "iris.shape"
      ],
      "metadata": {
        "colab": {
          "base_uri": "https://localhost:8080/"
        },
        "id": "PEN6YHZiz4Ma",
        "outputId": "fb4dcf09-1a25-419a-c429-ec813dcd87cd"
      },
      "execution_count": 14,
      "outputs": [
        {
          "output_type": "execute_result",
          "data": {
            "text/plain": [
              "(150, 5)"
            ]
          },
          "metadata": {},
          "execution_count": 14
        }
      ]
    },
    {
      "cell_type": "code",
      "source": [
        "# Describing the Dataset\n",
        "iris.describe()"
      ],
      "metadata": {
        "colab": {
          "base_uri": "https://localhost:8080/",
          "height": 300
        },
        "id": "fdrEaqdq0D4z",
        "outputId": "72b0d238-3ff8-466d-892e-f2c1b709e4a1"
      },
      "execution_count": 15,
      "outputs": [
        {
          "output_type": "execute_result",
          "data": {
            "text/html": [
              "\n",
              "  <div id=\"df-af745db1-bf01-4509-b0b7-211de14b82dc\">\n",
              "    <div class=\"colab-df-container\">\n",
              "      <div>\n",
              "<style scoped>\n",
              "    .dataframe tbody tr th:only-of-type {\n",
              "        vertical-align: middle;\n",
              "    }\n",
              "\n",
              "    .dataframe tbody tr th {\n",
              "        vertical-align: top;\n",
              "    }\n",
              "\n",
              "    .dataframe thead th {\n",
              "        text-align: right;\n",
              "    }\n",
              "</style>\n",
              "<table border=\"1\" class=\"dataframe\">\n",
              "  <thead>\n",
              "    <tr style=\"text-align: right;\">\n",
              "      <th></th>\n",
              "      <th>sepal_length</th>\n",
              "      <th>sepal_width</th>\n",
              "      <th>petal_length</th>\n",
              "      <th>petal_width</th>\n",
              "    </tr>\n",
              "  </thead>\n",
              "  <tbody>\n",
              "    <tr>\n",
              "      <th>count</th>\n",
              "      <td>150.000000</td>\n",
              "      <td>150.000000</td>\n",
              "      <td>150.000000</td>\n",
              "      <td>150.000000</td>\n",
              "    </tr>\n",
              "    <tr>\n",
              "      <th>mean</th>\n",
              "      <td>5.843333</td>\n",
              "      <td>3.057333</td>\n",
              "      <td>3.758000</td>\n",
              "      <td>1.199333</td>\n",
              "    </tr>\n",
              "    <tr>\n",
              "      <th>std</th>\n",
              "      <td>0.828066</td>\n",
              "      <td>0.435866</td>\n",
              "      <td>1.765298</td>\n",
              "      <td>0.762238</td>\n",
              "    </tr>\n",
              "    <tr>\n",
              "      <th>min</th>\n",
              "      <td>4.300000</td>\n",
              "      <td>2.000000</td>\n",
              "      <td>1.000000</td>\n",
              "      <td>0.100000</td>\n",
              "    </tr>\n",
              "    <tr>\n",
              "      <th>25%</th>\n",
              "      <td>5.100000</td>\n",
              "      <td>2.800000</td>\n",
              "      <td>1.600000</td>\n",
              "      <td>0.300000</td>\n",
              "    </tr>\n",
              "    <tr>\n",
              "      <th>50%</th>\n",
              "      <td>5.800000</td>\n",
              "      <td>3.000000</td>\n",
              "      <td>4.350000</td>\n",
              "      <td>1.300000</td>\n",
              "    </tr>\n",
              "    <tr>\n",
              "      <th>75%</th>\n",
              "      <td>6.400000</td>\n",
              "      <td>3.300000</td>\n",
              "      <td>5.100000</td>\n",
              "      <td>1.800000</td>\n",
              "    </tr>\n",
              "    <tr>\n",
              "      <th>max</th>\n",
              "      <td>7.900000</td>\n",
              "      <td>4.400000</td>\n",
              "      <td>6.900000</td>\n",
              "      <td>2.500000</td>\n",
              "    </tr>\n",
              "  </tbody>\n",
              "</table>\n",
              "</div>\n",
              "      <button class=\"colab-df-convert\" onclick=\"convertToInteractive('df-af745db1-bf01-4509-b0b7-211de14b82dc')\"\n",
              "              title=\"Convert this dataframe to an interactive table.\"\n",
              "              style=\"display:none;\">\n",
              "        \n",
              "  <svg xmlns=\"http://www.w3.org/2000/svg\" height=\"24px\"viewBox=\"0 0 24 24\"\n",
              "       width=\"24px\">\n",
              "    <path d=\"M0 0h24v24H0V0z\" fill=\"none\"/>\n",
              "    <path d=\"M18.56 5.44l.94 2.06.94-2.06 2.06-.94-2.06-.94-.94-2.06-.94 2.06-2.06.94zm-11 1L8.5 8.5l.94-2.06 2.06-.94-2.06-.94L8.5 2.5l-.94 2.06-2.06.94zm10 10l.94 2.06.94-2.06 2.06-.94-2.06-.94-.94-2.06-.94 2.06-2.06.94z\"/><path d=\"M17.41 7.96l-1.37-1.37c-.4-.4-.92-.59-1.43-.59-.52 0-1.04.2-1.43.59L10.3 9.45l-7.72 7.72c-.78.78-.78 2.05 0 2.83L4 21.41c.39.39.9.59 1.41.59.51 0 1.02-.2 1.41-.59l7.78-7.78 2.81-2.81c.8-.78.8-2.07 0-2.86zM5.41 20L4 18.59l7.72-7.72 1.47 1.35L5.41 20z\"/>\n",
              "  </svg>\n",
              "      </button>\n",
              "      \n",
              "  <style>\n",
              "    .colab-df-container {\n",
              "      display:flex;\n",
              "      flex-wrap:wrap;\n",
              "      gap: 12px;\n",
              "    }\n",
              "\n",
              "    .colab-df-convert {\n",
              "      background-color: #E8F0FE;\n",
              "      border: none;\n",
              "      border-radius: 50%;\n",
              "      cursor: pointer;\n",
              "      display: none;\n",
              "      fill: #1967D2;\n",
              "      height: 32px;\n",
              "      padding: 0 0 0 0;\n",
              "      width: 32px;\n",
              "    }\n",
              "\n",
              "    .colab-df-convert:hover {\n",
              "      background-color: #E2EBFA;\n",
              "      box-shadow: 0px 1px 2px rgba(60, 64, 67, 0.3), 0px 1px 3px 1px rgba(60, 64, 67, 0.15);\n",
              "      fill: #174EA6;\n",
              "    }\n",
              "\n",
              "    [theme=dark] .colab-df-convert {\n",
              "      background-color: #3B4455;\n",
              "      fill: #D2E3FC;\n",
              "    }\n",
              "\n",
              "    [theme=dark] .colab-df-convert:hover {\n",
              "      background-color: #434B5C;\n",
              "      box-shadow: 0px 1px 3px 1px rgba(0, 0, 0, 0.15);\n",
              "      filter: drop-shadow(0px 1px 2px rgba(0, 0, 0, 0.3));\n",
              "      fill: #FFFFFF;\n",
              "    }\n",
              "  </style>\n",
              "\n",
              "      <script>\n",
              "        const buttonEl =\n",
              "          document.querySelector('#df-af745db1-bf01-4509-b0b7-211de14b82dc button.colab-df-convert');\n",
              "        buttonEl.style.display =\n",
              "          google.colab.kernel.accessAllowed ? 'block' : 'none';\n",
              "\n",
              "        async function convertToInteractive(key) {\n",
              "          const element = document.querySelector('#df-af745db1-bf01-4509-b0b7-211de14b82dc');\n",
              "          const dataTable =\n",
              "            await google.colab.kernel.invokeFunction('convertToInteractive',\n",
              "                                                     [key], {});\n",
              "          if (!dataTable) return;\n",
              "\n",
              "          const docLinkHtml = 'Like what you see? Visit the ' +\n",
              "            '<a target=\"_blank\" href=https://colab.research.google.com/notebooks/data_table.ipynb>data table notebook</a>'\n",
              "            + ' to learn more about interactive tables.';\n",
              "          element.innerHTML = '';\n",
              "          dataTable['output_type'] = 'display_data';\n",
              "          await google.colab.output.renderOutput(dataTable, element);\n",
              "          const docLink = document.createElement('div');\n",
              "          docLink.innerHTML = docLinkHtml;\n",
              "          element.appendChild(docLink);\n",
              "        }\n",
              "      </script>\n",
              "    </div>\n",
              "  </div>\n",
              "  "
            ],
            "text/plain": [
              "       sepal_length  sepal_width  petal_length  petal_width\n",
              "count    150.000000   150.000000    150.000000   150.000000\n",
              "mean       5.843333     3.057333      3.758000     1.199333\n",
              "std        0.828066     0.435866      1.765298     0.762238\n",
              "min        4.300000     2.000000      1.000000     0.100000\n",
              "25%        5.100000     2.800000      1.600000     0.300000\n",
              "50%        5.800000     3.000000      4.350000     1.300000\n",
              "75%        6.400000     3.300000      5.100000     1.800000\n",
              "max        7.900000     4.400000      6.900000     2.500000"
            ]
          },
          "metadata": {},
          "execution_count": 15
        }
      ]
    },
    {
      "cell_type": "code",
      "source": [
        "from matplotlib import pyplot as plt"
      ],
      "metadata": {
        "id": "uXYVr4mU0Qfi"
      },
      "execution_count": 16,
      "outputs": []
    },
    {
      "cell_type": "markdown",
      "source": [
        "# Histogram for Sepal Length"
      ],
      "metadata": {
        "id": "UW4qj6fb0dsm"
      }
    },
    {
      "cell_type": "code",
      "source": [
        "plt.figure(figsize=(5,7))\n",
        "plt.hist(iris['sepal_length'])\n",
        "plt.title(\"Distribution of Sepal_Length\")\n",
        "plt.xlabel(\"Sepal_Length\")\n",
        "plt.show()"
      ],
      "metadata": {
        "colab": {
          "base_uri": "https://localhost:8080/",
          "height": 459
        },
        "id": "tK6t7F-u0j2n",
        "outputId": "a2a6478b-6134-4ba6-8a21-1b4937238af0"
      },
      "execution_count": 17,
      "outputs": [
        {
          "output_type": "display_data",
          "data": {
            "image/png": "[encoded data removed]",
            "text/plain": [
              "<Figure size 360x504 with 1 Axes>"
            ]
          },
          "metadata": {
            "needs_background": "light"
          }
        }
      ]
    },
    {
      "cell_type": "markdown",
      "source": [
        "# Histogram for Petal Length"
      ],
      "metadata": {
        "id": "kJrZRU5f06EU"
      }
    },
    {
      "cell_type": "code",
      "source": [
        "plt.figure(figsize=(5,7))\n",
        "plt.hist(iris['petal_length'],color=\"g\")\n",
        "plt.title(\"Distribution of Petal_Length\")\n",
        "plt.xlabel(\"Petal_length\")\n",
        "plt.show()"
      ],
      "metadata": {
        "colab": {
          "base_uri": "https://localhost:8080/",
          "height": 459
        },
        "id": "WRGrkTXd096r",
        "outputId": "09e776b3-868d-4048-cd63-387937ba290f"
      },
      "execution_count": 18,
      "outputs": [
        {
          "output_type": "display_data",
          "data": {
            "image/png": "[encoded data removed]",
            "text/plain": [
              "<Figure size 360x504 with 1 Axes>"
            ]
          },
          "metadata": {
            "needs_background": "light"
          }
        }
      ]
    },
    {
      "cell_type": "code",
      "source": [
        "# Checking for the species\n",
        "iris[\"species\"].unique()"
      ],
      "metadata": {
        "colab": {
          "base_uri": "https://localhost:8080/"
        },
        "id": "f3ckZzQK1cpF",
        "outputId": "66b707ab-621d-4668-a59f-bcf216a805e6"
      },
      "execution_count": 19,
      "outputs": [
        {
          "output_type": "execute_result",
          "data": {
            "text/plain": [
              "array(['setosa', 'versicolor', 'virginica'], dtype=object)"
            ]
          },
          "metadata": {},
          "execution_count": 19
        }
      ]
    },
    {
      "cell_type": "code",
      "source": [
        "# Storing the values of sepal_length, sepal_width, petal_length & petal_width in x \n",
        "x = iris.values[:,0:4] \n",
        "# Storing the type of species in y\n",
        "y = iris.values[:,4] "
      ],
      "metadata": {
        "id": "kSSI_jYW15_b"
      },
      "execution_count": 22,
      "outputs": []
    },
    {
      "cell_type": "code",
      "source": [
        "# Printing x\n",
        "x"
      ],
      "metadata": {
        "colab": {
          "base_uri": "https://localhost:8080/"
        },
        "id": "mjX1D7Wd3EHT",
        "outputId": "7f2e87de-9544-4ea9-db85-e901f9957b90"
      },
      "execution_count": 23,
      "outputs": [
        {
          "output_type": "execute_result",
          "data": {
            "text/plain": [
              "array([[5.1, 3.5, 1.4, 0.2],\n",
              "       [4.9, 3.0, 1.4, 0.2],\n",
              "       [4.7, 3.2, 1.3, 0.2],\n",
              "       [4.6, 3.1, 1.5, 0.2],\n",
              "       [5.0, 3.6, 1.4, 0.2],\n",
              "       [5.4, 3.9, 1.7, 0.4],\n",
              "       [4.6, 3.4, 1.4, 0.3],\n",
              "       [5.0, 3.4, 1.5, 0.2],\n",
              "       [4.4, 2.9, 1.4, 0.2],\n",
              "       [4.9, 3.1, 1.5, 0.1],\n",
              "       [5.4, 3.7, 1.5, 0.2],\n",
              "       [4.8, 3.4, 1.6, 0.2],\n",
              "       [4.8, 3.0, 1.4, 0.1],\n",
              "       [4.3, 3.0, 1.1, 0.1],\n",
              "       [5.8, 4.0, 1.2, 0.2],\n",
              "       [5.7, 4.4, 1.5, 0.4],\n",
              "       [5.4, 3.9, 1.3, 0.4],\n",
              "       [5.1, 3.5, 1.4, 0.3],\n",
              "       [5.7, 3.8, 1.7, 0.3],\n",
              "       [5.1, 3.8, 1.5, 0.3],\n",
              "       [5.4, 3.4, 1.7, 0.2],\n",
              "       [5.1, 3.7, 1.5, 0.4],\n",
              "       [4.6, 3.6, 1.0, 0.2],\n",
              "       [5.1, 3.3, 1.7, 0.5],\n",
              "       [4.8, 3.4, 1.9, 0.2],\n",
              "       [5.0, 3.0, 1.6, 0.2],\n",
              "       [5.0, 3.4, 1.6, 0.4],\n",
              "       [5.2, 3.5, 1.5, 0.2],\n",
              "       [5.2, 3.4, 1.4, 0.2],\n",
              "       [4.7, 3.2, 1.6, 0.2],\n",
              "       [4.8, 3.1, 1.6, 0.2],\n",
              "       [5.4, 3.4, 1.5, 0.4],\n",
              "       [5.2, 4.1, 1.5, 0.1],\n",
              "       [5.5, 4.2, 1.4, 0.2],\n",
              "       [4.9, 3.1, 1.5, 0.2],\n",
              "       [5.0, 3.2, 1.2, 0.2],\n",
              "       [5.5, 3.5, 1.3, 0.2],\n",
              "       [4.9, 3.6, 1.4, 0.1],\n",
              "       [4.4, 3.0, 1.3, 0.2],\n",
              "       [5.1, 3.4, 1.5, 0.2],\n",
              "       [5.0, 3.5, 1.3, 0.3],\n",
              "       [4.5, 2.3, 1.3, 0.3],\n",
              "       [4.4, 3.2, 1.3, 0.2],\n",
              "       [5.0, 3.5, 1.6, 0.6],\n",
              "       [5.1, 3.8, 1.9, 0.4],\n",
              "       [4.8, 3.0, 1.4, 0.3],\n",
              "       [5.1, 3.8, 1.6, 0.2],\n",
              "       [4.6, 3.2, 1.4, 0.2],\n",
              "       [5.3, 3.7, 1.5, 0.2],\n",
              "       [5.0, 3.3, 1.4, 0.2],\n",
              "       [7.0, 3.2, 4.7, 1.4],\n",
              "       [6.4, 3.2, 4.5, 1.5],\n",
              "       [6.9, 3.1, 4.9, 1.5],\n",
              "       [5.5, 2.3, 4.0, 1.3],\n",
              "       [6.5, 2.8, 4.6, 1.5],\n",
              "       [5.7, 2.8, 4.5, 1.3],\n",
              "       [6.3, 3.3, 4.7, 1.6],\n",
              "       [4.9, 2.4, 3.3, 1.0],\n",
              "       [6.6, 2.9, 4.6, 1.3],\n",
              "       [5.2, 2.7, 3.9, 1.4],\n",
              "       [5.0, 2.0, 3.5, 1.0],\n",
              "       [5.9, 3.0, 4.2, 1.5],\n",
              "       [6.0, 2.2, 4.0, 1.0],\n",
              "       [6.1, 2.9, 4.7, 1.4],\n",
              "       [5.6, 2.9, 3.6, 1.3],\n",
              "       [6.7, 3.1, 4.4, 1.4],\n",
              "       [5.6, 3.0, 4.5, 1.5],\n",
              "       [5.8, 2.7, 4.1, 1.0],\n",
              "       [6.2, 2.2, 4.5, 1.5],\n",
              "       [5.6, 2.5, 3.9, 1.1],\n",
              "       [5.9, 3.2, 4.8, 1.8],\n",
              "       [6.1, 2.8, 4.0, 1.3],\n",
              "       [6.3, 2.5, 4.9, 1.5],\n",
              "       [6.1, 2.8, 4.7, 1.2],\n",
              "       [6.4, 2.9, 4.3, 1.3],\n",
              "       [6.6, 3.0, 4.4, 1.4],\n",
              "       [6.8, 2.8, 4.8, 1.4],\n",
              "       [6.7, 3.0, 5.0, 1.7],\n",
              "       [6.0, 2.9, 4.5, 1.5],\n",
              "       [5.7, 2.6, 3.5, 1.0],\n",
              "       [5.5, 2.4, 3.8, 1.1],\n",
              "       [5.5, 2.4, 3.7, 1.0],\n",
              "       [5.8, 2.7, 3.9, 1.2],\n",
              "       [6.0, 2.7, 5.1, 1.6],\n",
              "       [5.4, 3.0, 4.5, 1.5],\n",
              "       [6.0, 3.4, 4.5, 1.6],\n",
              "       [6.7, 3.1, 4.7, 1.5],\n",
              "       [6.3, 2.3, 4.4, 1.3],\n",
              "       [5.6, 3.0, 4.1, 1.3],\n",
              "       [5.5, 2.5, 4.0, 1.3],\n",
              "       [5.5, 2.6, 4.4, 1.2],\n",
              "       [6.1, 3.0, 4.6, 1.4],\n",
              "       [5.8, 2.6, 4.0, 1.2],\n",
              "       [5.0, 2.3, 3.3, 1.0],\n",
              "       [5.6, 2.7, 4.2, 1.3],\n",
              "       [5.7, 3.0, 4.2, 1.2],\n",
              "       [5.7, 2.9, 4.2, 1.3],\n",
              "       [6.2, 2.9, 4.3, 1.3],\n",
              "       [5.1, 2.5, 3.0, 1.1],\n",
              "       [5.7, 2.8, 4.1, 1.3],\n",
              "       [6.3, 3.3, 6.0, 2.5],\n",
              "       [5.8, 2.7, 5.1, 1.9],\n",
              "       [7.1, 3.0, 5.9, 2.1],\n",
              "       [6.3, 2.9, 5.6, 1.8],\n",
              "       [6.5, 3.0, 5.8, 2.2],\n",
              "       [7.6, 3.0, 6.6, 2.1],\n",
              "       [4.9, 2.5, 4.5, 1.7],\n",
              "       [7.3, 2.9, 6.3, 1.8],\n",
              "       [6.7, 2.5, 5.8, 1.8],\n",
              "       [7.2, 3.6, 6.1, 2.5],\n",
              "       [6.5, 3.2, 5.1, 2.0],\n",
              "       [6.4, 2.7, 5.3, 1.9],\n",
              "       [6.8, 3.0, 5.5, 2.1],\n",
              "       [5.7, 2.5, 5.0, 2.0],\n",
              "       [5.8, 2.8, 5.1, 2.4],\n",
              "       [6.4, 3.2, 5.3, 2.3],\n",
              "       [6.5, 3.0, 5.5, 1.8],\n",
              "       [7.7, 3.8, 6.7, 2.2],\n",
              "       [7.7, 2.6, 6.9, 2.3],\n",
              "       [6.0, 2.2, 5.0, 1.5],\n",
              "       [6.9, 3.2, 5.7, 2.3],\n",
              "       [5.6, 2.8, 4.9, 2.0],\n",
              "       [7.7, 2.8, 6.7, 2.0],\n",
              "       [6.3, 2.7, 4.9, 1.8],\n",
              "       [6.7, 3.3, 5.7, 2.1],\n",
              "       [7.2, 3.2, 6.0, 1.8],\n",
              "       [6.2, 2.8, 4.8, 1.8],\n",
              "       [6.1, 3.0, 4.9, 1.8],\n",
              "       [6.4, 2.8, 5.6, 2.1],\n",
              "       [7.2, 3.0, 5.8, 1.6],\n",
              "       [7.4, 2.8, 6.1, 1.9],\n",
              "       [7.9, 3.8, 6.4, 2.0],\n",
              "       [6.4, 2.8, 5.6, 2.2],\n",
              "       [6.3, 2.8, 5.1, 1.5],\n",
              "       [6.1, 2.6, 5.6, 1.4],\n",
              "       [7.7, 3.0, 6.1, 2.3],\n",
              "       [6.3, 3.4, 5.6, 2.4],\n",
              "       [6.4, 3.1, 5.5, 1.8],\n",
              "       [6.0, 3.0, 4.8, 1.8],\n",
              "       [6.9, 3.1, 5.4, 2.1],\n",
              "       [6.7, 3.1, 5.6, 2.4],\n",
              "       [6.9, 3.1, 5.1, 2.3],\n",
              "       [5.8, 2.7, 5.1, 1.9],\n",
              "       [6.8, 3.2, 5.9, 2.3],\n",
              "       [6.7, 3.3, 5.7, 2.5],\n",
              "       [6.7, 3.0, 5.2, 2.3],\n",
              "       [6.3, 2.5, 5.0, 1.9],\n",
              "       [6.5, 3.0, 5.2, 2.0],\n",
              "       [6.2, 3.4, 5.4, 2.3],\n",
              "       [5.9, 3.0, 5.1, 1.8]], dtype=object)"
            ]
          },
          "metadata": {},
          "execution_count": 23
        }
      ]
    },
    {
      "cell_type": "code",
      "source": [
        "# Printing y\n",
        "y"
      ],
      "metadata": {
        "colab": {
          "base_uri": "https://localhost:8080/"
        },
        "id": "Gk-DGi6r3JVw",
        "outputId": "22906016-c408-4112-da65-6479a697a454"
      },
      "execution_count": 24,
      "outputs": [
        {
          "output_type": "execute_result",
          "data": {
            "text/plain": [
              "array(['setosa', 'setosa', 'setosa', 'setosa', 'setosa', 'setosa',\n",
              "       'setosa', 'setosa', 'setosa', 'setosa', 'setosa', 'setosa',\n",
              "       'setosa', 'setosa', 'setosa', 'setosa', 'setosa', 'setosa',\n",
              "       'setosa', 'setosa', 'setosa', 'setosa', 'setosa', 'setosa',\n",
              "       'setosa', 'setosa', 'setosa', 'setosa', 'setosa', 'setosa',\n",
              "       'setosa', 'setosa', 'setosa', 'setosa', 'setosa', 'setosa',\n",
              "       'setosa', 'setosa', 'setosa', 'setosa', 'setosa', 'setosa',\n",
              "       'setosa', 'setosa', 'setosa', 'setosa', 'setosa', 'setosa',\n",
              "       'setosa', 'setosa', 'versicolor', 'versicolor', 'versicolor',\n",
              "       'versicolor', 'versicolor', 'versicolor', 'versicolor',\n",
              "       'versicolor', 'versicolor', 'versicolor', 'versicolor',\n",
              "       'versicolor', 'versicolor', 'versicolor', 'versicolor',\n",
              "       'versicolor', 'versicolor', 'versicolor', 'versicolor',\n",
              "       'versicolor', 'versicolor', 'versicolor', 'versicolor',\n",
              "       'versicolor', 'versicolor', 'versicolor', 'versicolor',\n",
              "       'versicolor', 'versicolor', 'versicolor', 'versicolor',\n",
              "       'versicolor', 'versicolor', 'versicolor', 'versicolor',\n",
              "       'versicolor', 'versicolor', 'versicolor', 'versicolor',\n",
              "       'versicolor', 'versicolor', 'versicolor', 'versicolor',\n",
              "       'versicolor', 'versicolor', 'versicolor', 'versicolor',\n",
              "       'versicolor', 'versicolor', 'versicolor', 'virginica', 'virginica',\n",
              "       'virginica', 'virginica', 'virginica', 'virginica', 'virginica',\n",
              "       'virginica', 'virginica', 'virginica', 'virginica', 'virginica',\n",
              "       'virginica', 'virginica', 'virginica', 'virginica', 'virginica',\n",
              "       'virginica', 'virginica', 'virginica', 'virginica', 'virginica',\n",
              "       'virginica', 'virginica', 'virginica', 'virginica', 'virginica',\n",
              "       'virginica', 'virginica', 'virginica', 'virginica', 'virginica',\n",
              "       'virginica', 'virginica', 'virginica', 'virginica', 'virginica',\n",
              "       'virginica', 'virginica', 'virginica', 'virginica', 'virginica',\n",
              "       'virginica', 'virginica', 'virginica', 'virginica', 'virginica',\n",
              "       'virginica', 'virginica', 'virginica'], dtype=object)"
            ]
          },
          "metadata": {},
          "execution_count": 24
        }
      ]
    },
    {
      "cell_type": "markdown",
      "source": [
        "# Splitting the dataset in training dataset and testing dataset"
      ],
      "metadata": {
        "id": "RR7mVXT93ent"
      }
    },
    {
      "cell_type": "code",
      "source": [
        "from sklearn.model_selection import train_test_split"
      ],
      "metadata": {
        "id": "I3pPrGie3nG0"
      },
      "execution_count": 25,
      "outputs": []
    },
    {
      "cell_type": "code",
      "source": [
        "x_train, x_test, y_train, y_test = train_test_split(x, y, test_size=0.3, random_state=0) "
      ],
      "metadata": {
        "id": "epPX-Sou3r44"
      },
      "execution_count": 29,
      "outputs": []
    },
    {
      "cell_type": "markdown",
      "source": [
        "# Decision Tree Classifier"
      ],
      "metadata": {
        "id": "J2_Jeyt-3zjW"
      }
    },
    {
      "cell_type": "code",
      "source": [
        "dt = DecisionTreeClassifier()"
      ],
      "metadata": {
        "id": "z3qaQ_t0320r"
      },
      "execution_count": 30,
      "outputs": []
    },
    {
      "cell_type": "code",
      "source": [
        "# Fitting the dataset\n",
        "dt.fit(x_train, y_train)"
      ],
      "metadata": {
        "colab": {
          "base_uri": "https://localhost:8080/"
        },
        "id": "D0ShQfXN38pc",
        "outputId": "6375bc88-1d57-4804-defb-2fdd4f450743"
      },
      "execution_count": 31,
      "outputs": [
        {
          "output_type": "execute_result",
          "data": {
            "text/plain": [
              "DecisionTreeClassifier()"
            ]
          },
          "metadata": {},
          "execution_count": 31
        }
      ]
    },
    {
      "cell_type": "code",
      "source": [
        "y_pred = dt.predict(x_test)"
      ],
      "metadata": {
        "id": "VhJJ8aDP4OGq"
      },
      "execution_count": 32,
      "outputs": []
    },
    {
      "cell_type": "code",
      "source": [
        "print(\"Printing accuracy of model:{0:.2f}\".format(accuracy_score(y_test,y_pred)*100),\"%\")"
      ],
      "metadata": {
        "colab": {
          "base_uri": "https://localhost:8080/"
        },
        "id": "4rqzK-Jb4UYA",
        "outputId": "6f926f08-b8c9-4c56-fd57-4f5212f31745"
      },
      "execution_count": 34,
      "outputs": [
        {
          "output_type": "stream",
          "name": "stdout",
          "text": [
            "Printing accuracy of model:97.78 %\n"
          ]
        }
      ]
    },
    {
      "cell_type": "code",
      "source": [
        "features = iris.columns[:4]"
      ],
      "metadata": {
        "id": "t_04EGJd4hMW"
      },
      "execution_count": 35,
      "outputs": []
    },
    {
      "cell_type": "code",
      "source": [
        "features"
      ],
      "metadata": {
        "colab": {
          "base_uri": "https://localhost:8080/"
        },
        "id": "vxjBBUYj4pM2",
        "outputId": "29e75137-dfc7-485c-ab35-2c2bc84b15b0"
      },
      "execution_count": 36,
      "outputs": [
        {
          "output_type": "execute_result",
          "data": {
            "text/plain": [
              "Index(['sepal_length', 'sepal_width', 'petal_length', 'petal_width'], dtype='object')"
            ]
          },
          "metadata": {},
          "execution_count": 36
        }
      ]
    },
    {
      "cell_type": "markdown",
      "source": [
        "# Visualizing the Decision Tree"
      ],
      "metadata": {
        "id": "fMK4defb49HE"
      }
    },
    {
      "cell_type": "code",
      "source": [
        "!pip install pydotplus\n",
        "!apt-get install graphviz -y"
      ],
      "metadata": {
        "colab": {
          "base_uri": "https://localhost:8080/"
        },
        "id": "0dgBko0S5BzO",
        "outputId": "fb6b0d62-08fd-45b2-dd49-99cdc4317eb9"
      },
      "execution_count": 37,
      "outputs": [
        {
          "output_type": "stream",
          "name": "stdout",
          "text": [
            "Requirement already satisfied: pydotplus in /usr/local/lib/python3.7/dist-packages (2.0.2)\n",
            "Requirement already satisfied: pyparsing>=2.0.1 in /usr/local/lib/python3.7/dist-packages (from pydotplus) (3.0.6)\n",
            "Reading package lists... Done\n",
            "Building dependency tree       \n",
            "Reading state information... Done\n",
            "graphviz is already the newest version (2.40.1-2).\n",
            "0 upgraded, 0 newly installed, 0 to remove and 37 not upgraded.\n"
          ]
        }
      ]
    },
    {
      "cell_type": "code",
      "source": [
        "!pip install six"
      ],
      "metadata": {
        "colab": {
          "base_uri": "https://localhost:8080/"
        },
        "id": "0b5WiBog5IZd",
        "outputId": "6057ee59-d775-46a8-9e48-6918c417868c"
      },
      "execution_count": 38,
      "outputs": [
        {
          "output_type": "stream",
          "name": "stdout",
          "text": [
            "Requirement already satisfied: six in /usr/local/lib/python3.7/dist-packages (1.15.0)\n"
          ]
        }
      ]
    },
    {
      "cell_type": "code",
      "source": [
        "from six import StringIO\n",
        "from IPython.display import Image  \n",
        "from sklearn.tree import export_graphviz\n",
        "import pydotplus"
      ],
      "metadata": {
        "id": "-HRqhUTw5NCQ"
      },
      "execution_count": 39,
      "outputs": []
    },
    {
      "cell_type": "code",
      "source": [
        "# Visualize the graph\n",
        "dot_data = StringIO()\n",
        "export_graphviz(dt, out_file=dot_data, feature_names=features,  \n",
        "                filled=True, rounded=True,\n",
        "                special_characters=True)\n",
        "graph = pydotplus.graph_from_dot_data(dot_data.getvalue())  \n",
        "Image(graph.create_png())"
      ],
      "metadata": {
        "colab": {
          "base_uri": "https://localhost:8080/",
          "height": 653
        },
        "id": "1-U6S9Yn5Rbv",
        "outputId": "3b02b42f-972c-43fc-d5dd-ed458791e6eb"
      },
      "execution_count": 40,
      "outputs": [
        {
          "output_type": "execute_result",
          "data": {
            "image/png": "[encoded data removed]",
            "text/plain": [
              "<IPython.core.display.Image object>"
            ]
          },
          "metadata": {},
          "execution_count": 40
        }
      ]
    },
    {
      "cell_type": "markdown",
      "source": [
        "![thank-you-hand-drawn-lettering-260nw-1263463690.jpg](data:image/jpeg;base64,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)"
      ],
      "metadata": {
        "id": "VFTRShaS5y7X"
      }
    }
  ]
}